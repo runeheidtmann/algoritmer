{
 "cells": [
  {
   "cell_type": "code",
   "execution_count": 193,
   "id": "8b1210f7",
   "metadata": {},
   "outputs": [
    {
     "name": "stdout",
     "output_type": "stream",
     "text": [
      "               1                                \n",
      "       2                3                \n",
      "   4        5        6        7        \n",
      " 8    9    10    11    12    13    14    15    \n",
      "16  17  18  19  20  21  22  23  24  25  26  27  28  29  30  31  \n"
     ]
    }
   ],
   "source": [
    "from math import log2\n",
    "from math import ceil\n",
    "\n",
    "A = [x for x in range(1,2**5)]\n",
    "\n",
    "k = log2(len(A))+1\n",
    "\n",
    "j = 0\n",
    "i = int(j/2)\n",
    "spaces = int(k)\n",
    "m = int(k)\n",
    "\n",
    "\n",
    "while j < int(k):\n",
    "    start = int((2**m)/2)-1\n",
    "    print(\" \"*start,end='')\n",
    "    while i < 2**(j+1)-1:\n",
    "        print(A[i],end ='')   \n",
    "        i = i + 1 \n",
    "        print(\" \"*2**(int(k)-(int(k)-m)), end='')\n",
    "    j = j+1\n",
    "    m = m-1\n",
    "    print(\"\")\n",
    "    "
   ]
  },
  {
   "cell_type": "code",
   "execution_count": 33,
   "id": "6999b6f5",
   "metadata": {},
   "outputs": [
    {
     "data": {
      "text/plain": [
       "5.0"
      ]
     },
     "execution_count": 33,
     "metadata": {},
     "output_type": "execute_result"
    }
   ],
   "source": [
    "log2(16)+1"
   ]
  }
 ],
 "metadata": {
  "kernelspec": {
   "display_name": "Python 3 (ipykernel)",
   "language": "python",
   "name": "python3"
  },
  "language_info": {
   "codemirror_mode": {
    "name": "ipython",
    "version": 3
   },
   "file_extension": ".py",
   "mimetype": "text/x-python",
   "name": "python",
   "nbconvert_exporter": "python",
   "pygments_lexer": "ipython3",
   "version": "3.9.7"
  }
 },
 "nbformat": 4,
 "nbformat_minor": 5
}
