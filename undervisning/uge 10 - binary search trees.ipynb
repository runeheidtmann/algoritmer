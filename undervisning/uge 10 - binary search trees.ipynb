{
 "cells": [
  {
   "cell_type": "code",
   "execution_count": 71,
   "id": "2f490b5a",
   "metadata": {},
   "outputs": [],
   "source": [
    "class Node:\n",
    "    def __init__(self,data,parent):\n",
    "        self.data = data\n",
    "        self.parent = parent\n",
    "        self.left = None\n",
    "        self.right = None\n",
    "\n",
    "class searchTree:\n",
    "    def __init__(self):\n",
    "        self.root = Node(None,None)\n",
    "    \n",
    "    def insert(self,data):\n",
    "        y = None\n",
    "        x = self.root\n",
    "        \n",
    "        while x!=None and x.data != None:\n",
    "            y = x\n",
    "            if data <= x.data:\n",
    "                x = x.left\n",
    "            else:\n",
    "                x = x.right\n",
    "        \n",
    "        self.parent = y\n",
    "        if y == None:\n",
    "            self.root = Node(data,None)\n",
    "        \n",
    "        elif data < y.data:\n",
    "            y.left = Node(data,x)\n",
    "        else:\n",
    "            y.right = Node(data,x)\n",
    "    \n",
    "    def successor(self,node):\n",
    "        if node.right != None:\n",
    "            return self.minimum(node.right)\n",
    "        y = node.parent\n",
    "        while y != None and node == y.right:\n",
    "            node = y\n",
    "            y = y.parent\n",
    "        return y\n",
    "    def predecessor(self,node):\n",
    "        if node.left != None:\n",
    "            return self.maximum(node.left)\n",
    "        y = node.parent\n",
    "        while y != None and node == y.left:\n",
    "            node = y\n",
    "            y = y.parent\n",
    "        return y\n",
    "    \n",
    "    def minimum(self, node):\n",
    "        while node.left != None:\n",
    "            node = node.left\n",
    "        return node\n",
    "    \n",
    "    def recursive_minimum(self,node):\n",
    "        if node.left != None:\n",
    "            return self.recursive_minimum(node.left)\n",
    "        return node\n",
    "    \n",
    "    def recursive_max(self,node):\n",
    "        if node.right != None:\n",
    "            return self.recursive_max(node.right)\n",
    "        return node\n",
    "            \n",
    "    def inorder_walk(self,x):\n",
    "        if x != None:\n",
    "            self.inorder_walk(x.left)\n",
    "            print(x.data)\n",
    "            self.inorder_walk(x.right)\n",
    "            \n",
    "\n",
    "\n"
   ]
  },
  {
   "cell_type": "code",
   "execution_count": 72,
   "id": "c547dd66",
   "metadata": {},
   "outputs": [
    {
     "name": "stdout",
     "output_type": "stream",
     "text": [
      "802\n",
      "128\n",
      "109\n",
      "581\n",
      "315\n",
      "801\n",
      "653\n",
      "579\n",
      "440\n",
      "954\n"
     ]
    }
   ],
   "source": [
    "import random\n",
    "\n",
    "tree = searchTree()\n",
    "for i in range(10):\n",
    "    x = random.randint(0, 999)\n",
    "    print(x)\n",
    "    tree.insert(x)\n"
   ]
  },
  {
   "cell_type": "code",
   "execution_count": 73,
   "id": "2d194050",
   "metadata": {},
   "outputs": [
    {
     "name": "stdout",
     "output_type": "stream",
     "text": [
      "109\n",
      "128\n",
      "315\n",
      "440\n",
      "579\n",
      "581\n",
      "653\n",
      "801\n",
      "802\n",
      "954\n"
     ]
    }
   ],
   "source": [
    "tree.inorder_walk(tree.root)"
   ]
  },
  {
   "cell_type": "code",
   "execution_count": null,
   "id": "69740313",
   "metadata": {},
   "outputs": [],
   "source": []
  },
  {
   "cell_type": "code",
   "execution_count": null,
   "id": "c4ccbbc8",
   "metadata": {},
   "outputs": [],
   "source": []
  }
 ],
 "metadata": {
  "kernelspec": {
   "display_name": "Python 3 (ipykernel)",
   "language": "python",
   "name": "python3"
  },
  "language_info": {
   "codemirror_mode": {
    "name": "ipython",
    "version": 3
   },
   "file_extension": ".py",
   "mimetype": "text/x-python",
   "name": "python",
   "nbconvert_exporter": "python",
   "pygments_lexer": "ipython3",
   "version": "3.9.7"
  }
 },
 "nbformat": 4,
 "nbformat_minor": 5
}
