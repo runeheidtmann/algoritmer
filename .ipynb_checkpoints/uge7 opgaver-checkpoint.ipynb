{
 "cells": [
  {
   "cell_type": "markdown",
   "id": "131b49d0",
   "metadata": {},
   "source": [
    "<h1>Opgave uge 7</h1>\n",
    "<h3>1: Eksamen juni 2008, opgave 2</h3>"
   ]
  },
  {
   "cell_type": "markdown",
   "id": "afd1f640",
   "metadata": {},
   "source": [
    "Angiv den asymptotiske rækkefølge af følgende funktioner."
   ]
  },
  {
   "cell_type": "markdown",
   "id": "e0654123",
   "metadata": {},
   "source": [
    "$\\sqrt{n}, 2^n , (log_{10}n)^2 , n , log_2 n$\n",
    "<p>\n",
    "    Man kender rækkefølgen på de fleste på listen. Men $(log_{10}n)^2$ kender vi ikke. Men det er en logritme sat i anden. Så vi kan jo checke om $log_{2}n$ er mindre:\n",
    "</p>\n",
    "$ \\frac{log_2(n)}{(log_{10}n)^2} \\iff \\frac{log_2n}{log_{10}n * log_{10}n} \\rightarrow 0$ for $n \\rightarrow \\infty \\implies log2n = o((log_{10}n)^2)$\n",
    "\n",
    "<p>\n",
    "   Så jvf. regnerægler i slides 18,19,20 om asymptotisk analyse er $(log_{10}n)^2$ STØRRE end logn. Man kan gøre det samme med $(log_{10}n)^2 / \\sqrt{n}$ og man vil finde at $\\sqrt{n}$ er større. Så den rigtige rækkefølge er:\n",
    "</p>\n",
    "$log_2 n, (log_{10}n)^2,\\sqrt{n},n,2^n $"
   ]
  },
  {
   "cell_type": "markdown",
   "id": "6eb6e5ff",
   "metadata": {},
   "source": [
    "<h3>2: Implementer Mergesort i Python</h3>\n"
   ]
  },
  {
   "cell_type": "code",
   "execution_count": 12,
   "id": "77a4a7e6",
   "metadata": {},
   "outputs": [],
   "source": [
    "import math\n",
    "def mergesort(A):\n",
    "    if len(A) > 1:\n",
    "        mid = len(myList) // 2\n",
    "        left = myList[:mid]\n",
    "        right = myList[mid:]\n",
    "        mergeSort(left)\n",
    "        mergeSort(right)\n",
    "        \n",
    "        merge(A)\n",
    "\n",
    "def merge(A,p,q,r):\n",
    "    n1 = q-p+1\n",
    "    n2 = r-q\n",
    "    \n",
    "    L = [x for x in range(n1)]\n",
    "    R = [x for x in range(n2)]\n",
    "    \n",
    "    for i in range(n1):\n",
    "        L[i] = A[p+i-1]\n",
    "    \n",
    "    for j in range(n2):\n",
    "        R[j] = A[q+j]\n",
    "    i = 0\n",
    "    j = 0\n",
    "    L.append(math.inf)\n",
    "    R.append(math.inf)\n",
    "    print(L)\n",
    "    print(R)\n",
    "    for k in range(p,r-1):\n",
    "        if L[i] <= R[j]:\n",
    "            A[k] = L[i-1]\n",
    "            i = i + 1\n",
    "            print(\"i=\"+str(i))\n",
    "        else:\n",
    "            A[k] = R[j]\n",
    "            j = j+1\n",
    "            print(\"j=\"+str(j))\n",
    "    print(A)"
   ]
  },
  {
   "cell_type": "code",
   "execution_count": null,
   "id": "86dfc751",
   "metadata": {},
   "outputs": [],
   "source": [
    "A = [2,5,1,7,4,8,23,1,8,12]\n",
    "mergesort(A,0,9)"
   ]
  },
  {
   "cell_type": "code",
   "execution_count": null,
   "id": "3ac3becf",
   "metadata": {},
   "outputs": [],
   "source": []
  }
 ],
 "metadata": {
  "kernelspec": {
   "display_name": "Python 3 (ipykernel)",
   "language": "python",
   "name": "python3"
  },
  "language_info": {
   "codemirror_mode": {
    "name": "ipython",
    "version": 3
   },
   "file_extension": ".py",
   "mimetype": "text/x-python",
   "name": "python",
   "nbconvert_exporter": "python",
   "pygments_lexer": "ipython3",
   "version": "3.9.7"
  }
 },
 "nbformat": 4,
 "nbformat_minor": 5
}
