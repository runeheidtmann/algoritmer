{
 "cells": [
  {
   "cell_type": "code",
   "execution_count": 14,
   "id": "543da517",
   "metadata": {},
   "outputs": [],
   "source": [
    "import json\n",
    "\n",
    "class Queue:\n",
    "    \n",
    "    class Node:\n",
    "        def __init__(self,s):\n",
    "            self.left = None\n",
    "            self.right = None\n",
    "            self.data = s        \n",
    "    \n",
    "    def __init__(self):\n",
    "        self.head = None\n",
    "        self.tail = None\n",
    "    \n",
    "    def enqueue(self,s):\n",
    "        newNode = Node(s)\n",
    "        self.tail.right = newNode \n",
    "        self.tail = newNode\n",
    "    \n",
    "    def dequeue(self):\n",
    "        \n",
    "        returnNode = self.head\n",
    "        self.head = self.head.right     \n",
    "        return returnNode.data\n",
    "\n",
    "class Vertex:\n",
    "    def __init__(self, key):\n",
    "        self.key = key\n",
    "        self.edges = []\n",
    "        color = 'WHITE'\n",
    "        self.parent = None\n",
    "    \n",
    "    def addEdge(self,other):\n",
    "        self.edges.append(other)\n",
    "        other.edges.append(self)\n",
    "      \n",
    "       \n",
    "class Graph:\n",
    "    def __init__(self):\n",
    "        self.vertDict = {}\n",
    "        self.numVertexes = 0\n",
    "    \n",
    "    def addVertex(self,key):\n",
    "        newVertex = Vertex(key)\n",
    "        self.vertDict[key] = newVertex\n",
    "        self.numVertexes += 1\n",
    "        \n",
    "        return newVertex\n",
    "        \n",
    "    \n",
    "    def addEdge(self,f, t):\n",
    "        \n",
    "        if f not in self.vertDict:\n",
    "            self.addVertex(f)\n",
    "        if t not in self.vertDict:\n",
    "            self.addVertex(t)\n",
    "\n",
    "        self.vertDict[f].addEdge(self.vertDict[t])\n",
    "    \n",
    "    def bfs(self, vertexKey):\n",
    "         \n",
    "        \n",
    "    \n",
    "    def getVertex(self, item):\n",
    "        try:\n",
    "            return self.vertDict[item]\n",
    "        except KeyError:\n",
    "            return None\n",
    "\n",
    "    def __iter__(self):\n",
    "        return iter(self.vertList.values())\n",
    "    \n",
    "    \n",
    "    \n"
   ]
  },
  {
   "cell_type": "code",
   "execution_count": 24,
   "id": "6a32673e",
   "metadata": {},
   "outputs": [
    {
     "data": {
      "text/plain": [
       "'William Baldwin'"
      ]
     },
     "execution_count": 24,
     "metadata": {},
     "output_type": "execute_result"
    }
   ],
   "source": [
    "with open(\"baconGraph.json\") as json_file:\n",
    "    data = json.load(json_file)\n",
    "movies = data[\"movies\"]\n",
    "\n",
    "g = Graph()\n",
    "\n",
    "for movie in movies:\n",
    "    for actor in movie['cast']:\n",
    "        g.addEdge(movie['title'].upper(),actor)\n",
    "        \n"
   ]
  }
 ],
 "metadata": {
  "kernelspec": {
   "display_name": "Python 3 (ipykernel)",
   "language": "python",
   "name": "python3"
  },
  "language_info": {
   "codemirror_mode": {
    "name": "ipython",
    "version": 3
   },
   "file_extension": ".py",
   "mimetype": "text/x-python",
   "name": "python",
   "nbconvert_exporter": "python",
   "pygments_lexer": "ipython3",
   "version": "3.9.7"
  }
 },
 "nbformat": 4,
 "nbformat_minor": 5
}
