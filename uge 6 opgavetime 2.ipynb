{
 "cells": [
  {
   "cell_type": "code",
   "execution_count": 13,
   "source": [
    "#implement insertion sort\r\n",
    "\r\n",
    "def insertion_sort(alist):\r\n",
    "    i= 0\r\n",
    "    for j in range(1,len(alist)):\r\n",
    "    \r\n",
    "        key = alist[j]\r\n",
    "        i = j - 1\r\n",
    "    \r\n",
    "        while i >= 0 and alist[i] > key:\r\n",
    "            alist[i+1] = alist[i]\r\n",
    "            i -= 1\r\n",
    "        \r\n",
    "        alist[i+1] = key\r\n",
    "    \r\n",
    "    return alist\r\n",
    "\r\n",
    "def inversions(alist):\r\n",
    "    \r\n",
    "    for i in range(len(alist)):\r\n",
    "        for j in range(len(alist)):\r\n",
    "            if i < j and alist[i]>alist[j]:\r\n",
    "                print((i,j))\r\n",
    "    \r\n",
    " \r\n",
    "alist = [31,41,59,26,41,58]\r\n",
    "inversions(alist)\r\n",
    "\r\n",
    "\r\n",
    "\r\n"
   ],
   "outputs": [
    {
     "output_type": "stream",
     "name": "stdout",
     "text": [
      "(0, 3)\n",
      "(1, 3)\n",
      "(2, 3)\n",
      "(2, 4)\n",
      "(2, 5)\n"
     ]
    }
   ],
   "metadata": {}
  }
 ],
 "metadata": {
  "orig_nbformat": 4,
  "language_info": {
   "name": "python",
   "version": "3.9.7",
   "mimetype": "text/x-python",
   "codemirror_mode": {
    "name": "ipython",
    "version": 3
   },
   "pygments_lexer": "ipython3",
   "nbconvert_exporter": "python",
   "file_extension": ".py"
  },
  "kernelspec": {
   "name": "python3",
   "display_name": "Python 3.9.7 64-bit"
  },
  "interpreter": {
   "hash": "b5843a13e7131a14c3c0e364f0390d6592a995e3082c3f83420ac4385eeb2370"
  }
 },
 "nbformat": 4,
 "nbformat_minor": 2
}