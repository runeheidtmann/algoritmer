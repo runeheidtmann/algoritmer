{
 "cells": [
  {
   "cell_type": "markdown",
   "source": [
    "<h1>Opgavesæt uge 5 - A</h1>"
   ],
   "metadata": {}
  },
  {
   "cell_type": "markdown",
   "source": [
    "<h3>Opgave 2</h3>\n",
    "Vis at hvis alle brikker ikke står på deres korrekte pladser i starten, så kræves mindst\n",
    "n=2 ombytninger for at løse puslespillet."
   ],
   "metadata": {}
  },
  {
   "cell_type": "markdown",
   "source": [
    "Hvis ingen brik står på den rigtige plads er der 1 cycle. Man kan dele en cycle n/2 gange for at komme ned til at alle cycler er del. Det kan man vise grafisk med en binær træstruktur:\n",
    "<img src=\"binarytree.png\">\n",
    "Du tæler antallet af nodes, som du har delt.\n",
    "Som du kan se er der 15 nodes. Så det er altså i virkeligheden int(n/2), som smidder resten væk.\n"
   ],
   "metadata": {}
  },
  {
   "cell_type": "markdown",
   "source": [
    "<h3>opgave 4</h3>\r\n",
    "Lav et Java- eller Python-program, som genererer en tilfældig permu-\r\n",
    "tation af heltallene fra 0 til n-1 (for et n som er en input parameter).\r\n",
    "I Python kan man bruge lister samt funktionen shuffle fra modulet random. Udskriv tallene i din permu-\r\n",
    "tation. D"
   ],
   "metadata": {}
  },
  {
   "cell_type": "code",
   "execution_count": 1,
   "source": [
    "import random\r\n",
    "#print random.randint(0, 5) 1,2,3,4 or 5\r\n",
    "\r\n",
    "def makeList(num_range):\r\n",
    "    # using Fisher–Yates shuffle Algorithm\r\n",
    "    test_list = [x for x in range(num_range)]\r\n",
    "    for i in range(len(test_list)-1, 0, -1):\r\n",
    "        j = random.randint(0, i)\r\n",
    "        # Swap arr[i] with the element at random index\r\n",
    "        test_list[i], test_list[j] = test_list[j], test_list[i]\r\n",
    "    return test_list"
   ],
   "outputs": [],
   "metadata": {}
  },
  {
   "cell_type": "markdown",
   "source": [
    "<h3>Opgave 5</h3>"
   ],
   "metadata": {}
  },
  {
   "cell_type": "code",
   "execution_count": 13,
   "source": [
    "def count_cycles(numlist):\r\n",
    "    count = 0\r\n",
    "    used = []\r\n",
    "    for i in range(len(numlist)):      \r\n",
    "        \r\n",
    "        if i in used:  ### Kør ikke, hvis i har været talt her er der plads til forbedring. O(n^2)\r\n",
    "            continue\r\n",
    "        \r\n",
    "        if i == numlist[i]:  ### Hvis tallet står på det rigtige sted, så spring over.\r\n",
    "            count += 1\r\n",
    "            used.append(i)\r\n",
    "            continue\r\n",
    "            \r\n",
    "        start = i\r\n",
    "        nextindex = numlist[i]\r\n",
    "        used.append(i)\r\n",
    "        while nextindex != start:        ### Kør igennem indtil vi er tilbage til start index. O(n)\r\n",
    "            used.append(nextindex)\r\n",
    "            nextindex = numlist[nextindex]\r\n",
    "            \r\n",
    "        count += 1\r\n",
    "    return count     \r\n",
    "        "
   ],
   "outputs": [],
   "metadata": {}
  },
  {
   "cell_type": "markdown",
   "source": [
    "<b>Kørselstid O(n^2):</b> I den nuværende algoritme holder vi en liste, som holder styr på, om man har brugt et tal i en cycle eller ej. Vi går videre hvis tallet er ubrugt. Sådan som det er implementeret nu, vokserne denne liste til n og man skal derfor lede en liste med størrelsen n igennem for hvert run. Det gør algoritmen eksponentiel.\n"
   ],
   "metadata": {}
  },
  {
   "cell_type": "markdown",
   "source": [
    "<h1>Opgave 5 - B</h1>\n",
    "\n",
    "<h3> opgave 2 </h3>\n",
    "I øvelsestimen lavede du et program, som kunne generere en tilfældig\n",
    "permutation, og et program, som kunne tælle antal kredse i en per-\n",
    "mutation.\n",
    "Brug disse programmer til at generere en masse tilfældige permuta-\n",
    "tioner af længde 16, og tæl for hver af dem antallet af kredse i dem."
   ],
   "metadata": {}
  },
  {
   "cell_type": "code",
   "execution_count": 6,
   "source": [
    "def frequency_dist():\r\n",
    "    freq_dist = {}\r\n",
    "    for i in range(10000000):\r\n",
    "        thelist = makeList(16)\r\n",
    "        count = count_cycles(thelist)\r\n",
    "        if count in freq_dist:\r\n",
    "            freq_dist[count] += 1\r\n",
    "        else:\r\n",
    "            freq_dist[count] = 1\r\n",
    "    return freq_dist\r\n",
    "\r\n",
    "freq_dist = frequency_dist()\r\n",
    "import collections\r\n",
    "freq_dist = collections.OrderedDict(sorted(freq_dist.items()))"
   ],
   "outputs": [],
   "metadata": {}
  },
  {
   "cell_type": "code",
   "execution_count": 7,
   "source": [
    "import matplotlib.pyplot as plt\r\n",
    "\r\n",
    "\r\n",
    "plt.bar(range(len(freq_dist)), list(freq_dist.values()), align='center')\r\n",
    "plt.xticks(range(len(freq_dist)), list(freq_dist.keys()))\r\n",
    "# # for python 2.x:\r\n",
    "# plt.bar(range(len(D)), D.values(), align='center')  # python 2.x\r\n",
    "# plt.xticks(range(len(D)), D.keys())  # in python 2.x\r\n",
    "\r\n",
    "plt.show()"
   ],
   "outputs": [
    {
     "output_type": "display_data",
     "data": {
      "image/png": "[encoded data removed]",
      "text/plain": [
       "<Figure size 432x288 with 1 Axes>"
      ]
     },
     "metadata": {
      "needs_background": "light"
     }
    }
   ],
   "metadata": {}
  },
  {
   "cell_type": "code",
   "execution_count": 11,
   "source": [
    "mean = 0\r\n",
    "for key,value in freq_dist.items():\r\n",
    "    print(f\"P(cycle_count = {key} )  {key}: {value} / 1000000 = {value/10000000}\")\r\n",
    "    mean += key * (value/10000000)\r\n",
    "print(f\"Mean = E(X): {mean}\")"
   ],
   "outputs": [
    {
     "output_type": "stream",
     "name": "stdout",
     "text": [
      "P(cycle_count = 1 )  1: 625706 / 1000000 = 0.0625706\n",
      "P(cycle_count = 2 )  2: 2073975 / 1000000 = 0.2073975\n",
      "P(cycle_count = 3 )  3: 2947060 / 1000000 = 0.294706\n",
      "P(cycle_count = 4 )  4: 2417853 / 1000000 = 0.2417853\n",
      "P(cycle_count = 5 )  5: 1292641 / 1000000 = 0.1292641\n",
      "P(cycle_count = 6 )  6: 481756 / 1000000 = 0.0481756\n",
      "P(cycle_count = 7 )  7: 130258 / 1000000 = 0.0130258\n",
      "P(cycle_count = 8 )  8: 26292 / 1000000 = 0.0026292\n",
      "P(cycle_count = 9 )  9: 3990 / 1000000 = 0.000399\n",
      "P(cycle_count = 10 )  10: 428 / 1000000 = 4.28e-05\n",
      "P(cycle_count = 11 )  11: 39 / 1000000 = 3.9e-06\n",
      "P(cycle_count = 12 )  12: 2 / 1000000 = 2e-07\n",
      "Mean = E(X): 3.3802773999999998\n"
     ]
    }
   ],
   "metadata": {}
  },
  {
   "cell_type": "code",
   "execution_count": 10,
   "source": [
    "mean = 0\r\n",
    "for i in range(1,17):\r\n",
    "    mean += 1/i\r\n",
    "print(mean)"
   ],
   "outputs": [
    {
     "output_type": "stream",
     "name": "stdout",
     "text": [
      "3.3807289932289937\n"
     ]
    }
   ],
   "metadata": {}
  },
  {
   "cell_type": "code",
   "execution_count": null,
   "source": [],
   "outputs": [],
   "metadata": {}
  },
  {
   "cell_type": "code",
   "execution_count": null,
   "source": [],
   "outputs": [],
   "metadata": {}
  }
 ],
 "metadata": {
  "kernelspec": {
   "name": "python3",
   "display_name": "Python 3.9.7 64-bit"
  },
  "language_info": {
   "codemirror_mode": {
    "name": "ipython",
    "version": 3
   },
   "file_extension": ".py",
   "mimetype": "text/x-python",
   "name": "python",
   "nbconvert_exporter": "python",
   "pygments_lexer": "ipython3",
   "version": "3.9.7"
  },
  "interpreter": {
   "hash": "b5843a13e7131a14c3c0e364f0390d6592a995e3082c3f83420ac4385eeb2370"
  }
 },
 "nbformat": 4,
 "nbformat_minor": 5
}